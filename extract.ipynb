{
 "cells": [
  {
   "cell_type": "code",
   "execution_count": 13,
   "id": "ee2d63cd-bf85-4303-a2ee-9b8694a655c0",
   "metadata": {},
   "outputs": [],
   "source": [
    "import os\n",
    "from glob import glob\n",
    "import pandas as pd\n",
    "from functools import reduce\n",
    "from xml.etree import ElementTree as et"
   ]
  },
  {
   "cell_type": "code",
   "execution_count": 14,
   "id": "64b571da-145c-400a-a7cc-9842d9024ceb",
   "metadata": {},
   "outputs": [],
   "source": [
    "# load all xml files and store in a list\n",
    "xml_list = glob('./Data_Images/*.xml')\n",
    "# dat cleaning. replace \\\\ with /\n",
    "xml_list = list(map(lambda x: x.replace('\\\\','/'),xml_list))"
   ]
  },
  {
   "cell_type": "code",
   "execution_count": 15,
   "id": "88f22046-882d-473b-b01c-7499bd51d476",
   "metadata": {},
   "outputs": [
    {
     "data": {
      "text/plain": [
       "['./Data_Images/1551.xml',\n",
       " './Data_Images/1552.xml',\n",
       " './Data_Images/1553.xml',\n",
       " './Data_Images/1554.xml',\n",
       " './Data_Images/1555.xml',\n",
       " './Data_Images/1556.xml',\n",
       " './Data_Images/1557.xml',\n",
       " './Data_Images/1558.xml',\n",
       " './Data_Images/1559.xml',\n",
       " './Data_Images/1560.xml',\n",
       " './Data_Images/1561.xml',\n",
       " './Data_Images/1562.xml',\n",
       " './Data_Images/1563.xml',\n",
       " './Data_Images/1564.xml',\n",
       " './Data_Images/1565.xml',\n",
       " './Data_Images/1566.xml',\n",
       " './Data_Images/1567.xml',\n",
       " './Data_Images/1568.xml',\n",
       " './Data_Images/1569.xml',\n",
       " './Data_Images/1570.xml',\n",
       " './Data_Images/1571.xml',\n",
       " './Data_Images/1572.xml',\n",
       " './Data_Images/1573.xml',\n",
       " './Data_Images/1574.xml',\n",
       " './Data_Images/1575.xml',\n",
       " './Data_Images/1576.xml',\n",
       " './Data_Images/1577.xml',\n",
       " './Data_Images/1578.xml',\n",
       " './Data_Images/1579.xml',\n",
       " './Data_Images/1580.xml',\n",
       " './Data_Images/1581.xml',\n",
       " './Data_Images/1582.xml',\n",
       " './Data_Images/1583.xml',\n",
       " './Data_Images/1584.xml',\n",
       " './Data_Images/1585.xml',\n",
       " './Data_Images/1586.xml',\n",
       " './Data_Images/1587.xml',\n",
       " './Data_Images/1588.xml',\n",
       " './Data_Images/1589.xml',\n",
       " './Data_Images/1590.xml',\n",
       " './Data_Images/1591.xml',\n",
       " './Data_Images/1592.xml',\n",
       " './Data_Images/1593.xml',\n",
       " './Data_Images/1594.xml',\n",
       " './Data_Images/1595.xml',\n",
       " './Data_Images/1596.xml',\n",
       " './Data_Images/1597.xml',\n",
       " './Data_Images/1598.xml',\n",
       " './Data_Images/1599.xml',\n",
       " './Data_Images/1600.xml',\n",
       " './Data_Images/1601.xml',\n",
       " './Data_Images/1602.xml',\n",
       " './Data_Images/1603.xml',\n",
       " './Data_Images/1604.xml',\n",
       " './Data_Images/1605.xml',\n",
       " './Data_Images/1606.xml',\n",
       " './Data_Images/1607.xml',\n",
       " './Data_Images/1608.xml',\n",
       " './Data_Images/1609.xml',\n",
       " './Data_Images/1610.xml',\n",
       " './Data_Images/1611.xml',\n",
       " './Data_Images/1612.xml',\n",
       " './Data_Images/1613.xml',\n",
       " './Data_Images/1614.xml',\n",
       " './Data_Images/1615.xml',\n",
       " './Data_Images/1616.xml',\n",
       " './Data_Images/1617.xml',\n",
       " './Data_Images/1618.xml',\n",
       " './Data_Images/1619.xml',\n",
       " './Data_Images/1620.xml',\n",
       " './Data_Images/1621.xml',\n",
       " './Data_Images/1622.xml',\n",
       " './Data_Images/1623.xml',\n",
       " './Data_Images/1624.xml',\n",
       " './Data_Images/1625.xml',\n",
       " './Data_Images/1626.xml',\n",
       " './Data_Images/1627.xml',\n",
       " './Data_Images/1628.xml',\n",
       " './Data_Images/1629.xml',\n",
       " './Data_Images/1630.xml',\n",
       " './Data_Images/1631.xml',\n",
       " './Data_Images/1632.xml',\n",
       " './Data_Images/1633.xml',\n",
       " './Data_Images/1634.xml',\n",
       " './Data_Images/1635.xml',\n",
       " './Data_Images/1636.xml',\n",
       " './Data_Images/1637.xml',\n",
       " './Data_Images/1638.xml',\n",
       " './Data_Images/1639.xml',\n",
       " './Data_Images/1640.xml',\n",
       " './Data_Images/1641.xml',\n",
       " './Data_Images/1642.xml',\n",
       " './Data_Images/1643.xml',\n",
       " './Data_Images/1644.xml',\n",
       " './Data_Images/1645.xml',\n",
       " './Data_Images/1646.xml',\n",
       " './Data_Images/1647.xml',\n",
       " './Data_Images/1648.xml',\n",
       " './Data_Images/1649.xml',\n",
       " './Data_Images/1650.xml',\n",
       " './Data_Images/201.xml',\n",
       " './Data_Images/202.xml',\n",
       " './Data_Images/203.xml',\n",
       " './Data_Images/204.xml',\n",
       " './Data_Images/205.xml',\n",
       " './Data_Images/206.xml',\n",
       " './Data_Images/208.xml',\n",
       " './Data_Images/209.xml',\n",
       " './Data_Images/210.xml',\n",
       " './Data_Images/211.xml',\n",
       " './Data_Images/212.xml',\n",
       " './Data_Images/213.xml',\n",
       " './Data_Images/214.xml',\n",
       " './Data_Images/215.xml',\n",
       " './Data_Images/216.xml',\n",
       " './Data_Images/217.xml',\n",
       " './Data_Images/218.xml',\n",
       " './Data_Images/219.xml',\n",
       " './Data_Images/220.xml',\n",
       " './Data_Images/221.xml',\n",
       " './Data_Images/222.xml',\n",
       " './Data_Images/223.xml',\n",
       " './Data_Images/224.xml',\n",
       " './Data_Images/225.xml',\n",
       " './Data_Images/226.xml',\n",
       " './Data_Images/227.xml',\n",
       " './Data_Images/228.xml',\n",
       " './Data_Images/229.xml',\n",
       " './Data_Images/230.xml',\n",
       " './Data_Images/231.xml',\n",
       " './Data_Images/232.xml',\n",
       " './Data_Images/233.xml',\n",
       " './Data_Images/234.xml',\n",
       " './Data_Images/235.xml',\n",
       " './Data_Images/236.xml',\n",
       " './Data_Images/237.xml',\n",
       " './Data_Images/238.xml',\n",
       " './Data_Images/239.xml',\n",
       " './Data_Images/240.xml',\n",
       " './Data_Images/241.xml',\n",
       " './Data_Images/242.xml',\n",
       " './Data_Images/243.xml',\n",
       " './Data_Images/244.xml',\n",
       " './Data_Images/245.xml',\n",
       " './Data_Images/246.xml',\n",
       " './Data_Images/247.xml',\n",
       " './Data_Images/248.xml',\n",
       " './Data_Images/249.xml',\n",
       " './Data_Images/250.xml',\n",
       " './Data_Images/251.xml',\n",
       " './Data_Images/252.xml',\n",
       " './Data_Images/253.xml',\n",
       " './Data_Images/254.xml',\n",
       " './Data_Images/255.xml',\n",
       " './Data_Images/256.xml',\n",
       " './Data_Images/257.xml',\n",
       " './Data_Images/258.xml',\n",
       " './Data_Images/259.xml',\n",
       " './Data_Images/260.xml',\n",
       " './Data_Images/261.xml',\n",
       " './Data_Images/262.xml',\n",
       " './Data_Images/263.xml',\n",
       " './Data_Images/264.xml',\n",
       " './Data_Images/265.xml',\n",
       " './Data_Images/266.xml',\n",
       " './Data_Images/267.xml',\n",
       " './Data_Images/268.xml',\n",
       " './Data_Images/269.xml',\n",
       " './Data_Images/270.xml',\n",
       " './Data_Images/271.xml',\n",
       " './Data_Images/272.xml',\n",
       " './Data_Images/273.xml',\n",
       " './Data_Images/274.xml',\n",
       " './Data_Images/275.xml',\n",
       " './Data_Images/276.xml',\n",
       " './Data_Images/277.xml',\n",
       " './Data_Images/278.xml',\n",
       " './Data_Images/279.xml',\n",
       " './Data_Images/280.xml',\n",
       " './Data_Images/281.xml',\n",
       " './Data_Images/282.xml',\n",
       " './Data_Images/283.xml',\n",
       " './Data_Images/284.xml',\n",
       " './Data_Images/285.xml',\n",
       " './Data_Images/286.xml',\n",
       " './Data_Images/287.xml',\n",
       " './Data_Images/288.xml',\n",
       " './Data_Images/289.xml',\n",
       " './Data_Images/290.xml',\n",
       " './Data_Images/291.xml',\n",
       " './Data_Images/292.xml',\n",
       " './Data_Images/293.xml',\n",
       " './Data_Images/294.xml',\n",
       " './Data_Images/295.xml',\n",
       " './Data_Images/296.xml',\n",
       " './Data_Images/297.xml',\n",
       " './Data_Images/298.xml',\n",
       " './Data_Images/299.xml',\n",
       " './Data_Images/300.xml']"
      ]
     },
     "execution_count": 15,
     "metadata": {},
     "output_type": "execute_result"
    }
   ],
   "source": [
    "xml_list"
   ]
  },
  {
   "cell_type": "code",
   "execution_count": 16,
   "id": "5e743c16-bd50-4dc0-9f6a-05201b284f86",
   "metadata": {},
   "outputs": [],
   "source": [
    "# read xml files\n",
    "# from each xml file we need to extract \n",
    "# filename, size(width, height), object(name, xmin, xmax, ymin, ymax)\n",
    "def extract_info(filename):\n",
    "    tree = et.parse(filename)\n",
    "    root = tree.getroot()\n",
    "    \n",
    "    # extract file name\n",
    "    image_name = root.find('filename').text\n",
    "    #width and height of the image\n",
    "    width = root.find('size').find('width').text\n",
    "    height = root.find('size').find('height').text\n",
    "    objects = root.findall('object')\n",
    "    parser = []\n",
    "    for obj in objects:\n",
    "        name = obj.find('name').text\n",
    "        bndbox = obj.find('bndbox')\n",
    "        xmin = bndbox.find('xmin').text\n",
    "        xmax = bndbox.find('xmax').text\n",
    "        ymin = bndbox.find('ymin').text\n",
    "        ymax = bndbox.find('ymax').text\n",
    "        parser.append([image_name, width, height, name, xmin, xmax, ymin, ymax])\n",
    "    \n",
    "    return parser"
   ]
  },
  {
   "cell_type": "code",
   "execution_count": 17,
   "id": "4ed9252d-f1a1-44f5-bb9f-64c244bef816",
   "metadata": {},
   "outputs": [
    {
     "data": {
      "text/html": [
       "<div>\n",
       "<style scoped>\n",
       "    .dataframe tbody tr th:only-of-type {\n",
       "        vertical-align: middle;\n",
       "    }\n",
       "\n",
       "    .dataframe tbody tr th {\n",
       "        vertical-align: top;\n",
       "    }\n",
       "\n",
       "    .dataframe thead th {\n",
       "        text-align: right;\n",
       "    }\n",
       "</style>\n",
       "<table border=\"1\" class=\"dataframe\">\n",
       "  <thead>\n",
       "    <tr style=\"text-align: right;\">\n",
       "      <th></th>\n",
       "      <th>filename</th>\n",
       "      <th>width</th>\n",
       "      <th>height</th>\n",
       "      <th>name</th>\n",
       "      <th>xmin</th>\n",
       "      <th>xmax</th>\n",
       "      <th>ymin</th>\n",
       "      <th>ymax</th>\n",
       "    </tr>\n",
       "  </thead>\n",
       "  <tbody>\n",
       "    <tr>\n",
       "      <th>0</th>\n",
       "      <td>1551.jpg</td>\n",
       "      <td>5184</td>\n",
       "      <td>3456</td>\n",
       "      <td>dog</td>\n",
       "      <td>918</td>\n",
       "      <td>3065</td>\n",
       "      <td>138</td>\n",
       "      <td>3364</td>\n",
       "    </tr>\n",
       "    <tr>\n",
       "      <th>1</th>\n",
       "      <td>1552.jpg</td>\n",
       "      <td>1851</td>\n",
       "      <td>2780</td>\n",
       "      <td>dog</td>\n",
       "      <td>277</td>\n",
       "      <td>908</td>\n",
       "      <td>1285</td>\n",
       "      <td>2585</td>\n",
       "    </tr>\n",
       "    <tr>\n",
       "      <th>2</th>\n",
       "      <td>1552.jpg</td>\n",
       "      <td>1851</td>\n",
       "      <td>2780</td>\n",
       "      <td>dog</td>\n",
       "      <td>873</td>\n",
       "      <td>1555</td>\n",
       "      <td>1198</td>\n",
       "      <td>2633</td>\n",
       "    </tr>\n",
       "    <tr>\n",
       "      <th>3</th>\n",
       "      <td>1553.jpg</td>\n",
       "      <td>2568</td>\n",
       "      <td>3876</td>\n",
       "      <td>dog</td>\n",
       "      <td>189</td>\n",
       "      <td>2383</td>\n",
       "      <td>843</td>\n",
       "      <td>3631</td>\n",
       "    </tr>\n",
       "    <tr>\n",
       "      <th>4</th>\n",
       "      <td>1554.jpg</td>\n",
       "      <td>2744</td>\n",
       "      <td>4049</td>\n",
       "      <td>dog</td>\n",
       "      <td>366</td>\n",
       "      <td>2410</td>\n",
       "      <td>893</td>\n",
       "      <td>3661</td>\n",
       "    </tr>\n",
       "  </tbody>\n",
       "</table>\n",
       "</div>"
      ],
      "text/plain": [
       "   filename width height name xmin  xmax  ymin  ymax\n",
       "0  1551.jpg  5184   3456  dog  918  3065   138  3364\n",
       "1  1552.jpg  1851   2780  dog  277   908  1285  2585\n",
       "2  1552.jpg  1851   2780  dog  873  1555  1198  2633\n",
       "3  1553.jpg  2568   3876  dog  189  2383   843  3631\n",
       "4  1554.jpg  2744   4049  dog  366  2410   893  3661"
      ]
     },
     "execution_count": 17,
     "metadata": {},
     "output_type": "execute_result"
    }
   ],
   "source": [
    "parser_all = list(map(extract_info,xml_list))\n",
    "\n",
    "data = reduce(lambda x, y : x+y, parser_all)\n",
    "\n",
    "df = pd.DataFrame(data,columns = ['filename', 'width', 'height', 'name', 'xmin', 'xmax', 'ymin', 'ymax'])\n",
    "\n",
    "df.head()"
   ]
  },
  {
   "cell_type": "code",
   "execution_count": 18,
   "id": "10b25aa5-df3f-4987-9b37-8db69101fe2f",
   "metadata": {},
   "outputs": [
    {
     "data": {
      "text/plain": [
       "name\n",
       "person    212\n",
       "dog       102\n",
       "Name: count, dtype: int64"
      ]
     },
     "execution_count": 18,
     "metadata": {},
     "output_type": "execute_result"
    }
   ],
   "source": [
    "df['name'].value_counts()"
   ]
  },
  {
   "cell_type": "code",
   "execution_count": 19,
   "id": "f3f599ea-709c-454d-8382-fe8025008448",
   "metadata": {},
   "outputs": [
    {
     "name": "stdout",
     "output_type": "stream",
     "text": [
      "<class 'pandas.core.frame.DataFrame'>\n",
      "RangeIndex: 314 entries, 0 to 313\n",
      "Data columns (total 8 columns):\n",
      " #   Column    Non-Null Count  Dtype \n",
      "---  ------    --------------  ----- \n",
      " 0   filename  314 non-null    object\n",
      " 1   width     314 non-null    int32 \n",
      " 2   height    314 non-null    int32 \n",
      " 3   name      314 non-null    object\n",
      " 4   xmin      314 non-null    int32 \n",
      " 5   xmax      314 non-null    int32 \n",
      " 6   ymin      314 non-null    int32 \n",
      " 7   ymax      314 non-null    int32 \n",
      "dtypes: int32(6), object(2)\n",
      "memory usage: 12.4+ KB\n"
     ]
    }
   ],
   "source": [
    "#type conversion\n",
    "cols = ['width', 'height', 'xmin', 'xmax', 'ymin', 'ymax']\n",
    "df[cols] = df[cols].astype(int)\n",
    "df.info()"
   ]
  },
  {
   "cell_type": "code",
   "execution_count": 20,
   "id": "6c66d5ce-c4f4-4e72-a833-bae7ff35f27b",
   "metadata": {},
   "outputs": [],
   "source": [
    "# center x, center y\n",
    "df['center_x'] = ((df['xmax']+df['xmin'])/2)/df['width']\n",
    "df['center_y'] = ((df['ymax']+df['ymin'])/2)/df['height']\n",
    "# w\n",
    "df['w'] = (df['xmax']-df['xmin'])/df['width']\n",
    "# h\n",
    "df['h'] = (df['ymax']-df['ymin'])/df['height']"
   ]
  },
  {
   "cell_type": "code",
   "execution_count": 21,
   "id": "4f718939-0c7f-4fbc-b9de-7d6ae684c096",
   "metadata": {},
   "outputs": [],
   "source": [
    "# split data into train and split\n",
    "images = df['filename'].unique()"
   ]
  },
  {
   "cell_type": "code",
   "execution_count": 22,
   "id": "9fa7434d-a8a2-4350-9b09-03f76fb0286c",
   "metadata": {},
   "outputs": [
    {
     "data": {
      "text/plain": [
       "199"
      ]
     },
     "execution_count": 22,
     "metadata": {},
     "output_type": "execute_result"
    }
   ],
   "source": [
    "len(images)"
   ]
  },
  {
   "cell_type": "code",
   "execution_count": 23,
   "id": "35a62a24-e7b9-498a-a240-e9e214529e92",
   "metadata": {},
   "outputs": [],
   "source": [
    "# 89% train and 20% test\n",
    "img_df = pd.DataFrame(images, columns=['filename'])\n",
    "img_train = tuple(img_df.sample(frac = 0.8)['filename'])"
   ]
  },
  {
   "cell_type": "code",
   "execution_count": 24,
   "id": "4e45922a-25e4-451c-89db-a293ea44a8c1",
   "metadata": {},
   "outputs": [],
   "source": [
    "img_test = tuple(img_df.query(f'filename not in {img_train}')['filename'])"
   ]
  },
  {
   "cell_type": "code",
   "execution_count": 25,
   "id": "90351c8d-61ed-4023-a51d-30b9b2d58f2d",
   "metadata": {},
   "outputs": [
    {
     "data": {
      "text/plain": [
       "(40, 159)"
      ]
     },
     "execution_count": 25,
     "metadata": {},
     "output_type": "execute_result"
    }
   ],
   "source": [
    "len(img_test), len(img_train)"
   ]
  },
  {
   "cell_type": "code",
   "execution_count": 26,
   "id": "9ae161c1-7cbd-42c1-9aa4-fbfda858179e",
   "metadata": {},
   "outputs": [],
   "source": [
    "train_df = df.query(f'filename in {img_train}')\n",
    "test_df = df.query(f'filename in {img_test}')"
   ]
  },
  {
   "cell_type": "code",
   "execution_count": 27,
   "id": "b66267b7-ab1d-490a-9974-4fa6b760038b",
   "metadata": {},
   "outputs": [],
   "source": [
    "# label encoding\n",
    "def label_encoding(x):\n",
    "    labels = {'person' : 0, 'dog' : 1} \n",
    "    return labels[x]"
   ]
  },
  {
   "cell_type": "code",
   "execution_count": 32,
   "id": "f3a7e4c1-13d4-49e1-adc7-21dcb6abe43b",
   "metadata": {},
   "outputs": [],
   "source": [
    "train_df.loc[:, 'id'] = train_df['name'].apply(label_encoding)\n",
    "test_df.loc[:, 'id'] = test_df['name'].apply(label_encoding)"
   ]
  },
  {
   "cell_type": "code",
   "execution_count": 33,
   "id": "0aefa56a-6f3f-4cb2-bf81-78be7b09e551",
   "metadata": {},
   "outputs": [],
   "source": [
    "import os\n",
    "from shutil import move"
   ]
  },
  {
   "cell_type": "code",
   "execution_count": 34,
   "id": "4182d21f-62dd-4357-9e65-c4c2671d2f66",
   "metadata": {},
   "outputs": [
    {
     "ename": "FileExistsError",
     "evalue": "[WinError 183] Cannot create a file when that file already exists: 'Data_Images/train'",
     "output_type": "error",
     "traceback": [
      "\u001b[1;31m---------------------------------------------------------------------------\u001b[0m",
      "\u001b[1;31mFileExistsError\u001b[0m                           Traceback (most recent call last)",
      "Cell \u001b[1;32mIn[34], line 4\u001b[0m\n\u001b[0;32m      1\u001b[0m train_folder \u001b[38;5;241m=\u001b[39m \u001b[38;5;124m'\u001b[39m\u001b[38;5;124mData_Images/train\u001b[39m\u001b[38;5;124m'\u001b[39m\n\u001b[0;32m      2\u001b[0m test_folder \u001b[38;5;241m=\u001b[39m\u001b[38;5;124m'\u001b[39m\u001b[38;5;124mData_Images/test\u001b[39m\u001b[38;5;124m'\u001b[39m\n\u001b[1;32m----> 4\u001b[0m \u001b[43mos\u001b[49m\u001b[38;5;241;43m.\u001b[39;49m\u001b[43mmkdir\u001b[49m\u001b[43m(\u001b[49m\u001b[43mtrain_folder\u001b[49m\u001b[43m)\u001b[49m\n\u001b[0;32m      5\u001b[0m os\u001b[38;5;241m.\u001b[39mmkdir(test_folder)\n",
      "\u001b[1;31mFileExistsError\u001b[0m: [WinError 183] Cannot create a file when that file already exists: 'Data_Images/train'"
     ]
    }
   ],
   "source": [
    "train_folder = 'Data_Images/train'\n",
    "test_folder ='Data_Images/test'\n",
    "\n",
    "os.mkdir(train_folder)\n",
    "os.mkdir(test_folder)"
   ]
  },
  {
   "cell_type": "code",
   "execution_count": 35,
   "id": "aef557b5-5f24-4e85-87cc-c63623e1c5e8",
   "metadata": {},
   "outputs": [],
   "source": [
    "cols = ['filename','id','center_x','center_y', 'w', 'h']\n",
    "groupby_obj_train = train_df[cols].groupby('filename')\n",
    "groupby_obj_test = test_df[cols].groupby('filename')"
   ]
  },
  {
   "cell_type": "code",
   "execution_count": 36,
   "id": "b20b6e9a-e382-4f46-9cfe-2e4b4401a895",
   "metadata": {},
   "outputs": [],
   "source": [
    "#groupby_obj_train.get_group('000009.jpg').set_index('filename').to_csv('sample.txt',index=False,header=False)\n",
    "# save each image in train/test folder and repective labels in .txt\n",
    "def save_data(filename, folder_path, group_obj):\n",
    "    src = os.path.join('Data_Images', filename)\n",
    "    dst = os.path.join(folder_path, filename)\n",
    "    \n",
    "    try:\n",
    "        move(src, dst)  # move image to the destination folder\n",
    "        \n",
    "        # Save the labels\n",
    "        text_filename = os.path.join(folder_path, os.path.splitext(filename)[0] + '.txt')\n",
    "        group_obj.get_group(filename).set_index('filename').to_csv(text_filename, sep=' ', index=False, header=False)\n",
    "        \n",
    "    except FileNotFoundError as e:\n",
    "        # Handle the case where the file is not found\n",
    "        print(f\"File '{filename}' not found. Skipping...\")\n",
    "        print(e)  # Optionally, you can print or log the error message for debugging purposes\n",
    "        # You can add further handling here if needed, such as logging the error or skipping the file.\n",
    "        pass  # If you want to skip the file silently"
   ]
  },
  {
   "cell_type": "code",
   "execution_count": 37,
   "id": "72257dde-d4f6-4679-ada0-da01fe9e0f3c",
   "metadata": {},
   "outputs": [
    {
     "data": {
      "text/plain": [
       "0      None\n",
       "1      None\n",
       "2      None\n",
       "3      None\n",
       "4      None\n",
       "       ... \n",
       "154    None\n",
       "155    None\n",
       "156    None\n",
       "157    None\n",
       "158    None\n",
       "Length: 159, dtype: object"
      ]
     },
     "execution_count": 37,
     "metadata": {},
     "output_type": "execute_result"
    }
   ],
   "source": [
    "filename_series = pd.Series(groupby_obj_train.groups.keys())\n",
    "\n",
    "filename_series.apply(save_data,args=(train_folder,groupby_obj_train))"
   ]
  },
  {
   "cell_type": "code",
   "execution_count": 38,
   "id": "d443c30d-a618-4033-9a83-1e3a7e908a94",
   "metadata": {},
   "outputs": [
    {
     "data": {
      "text/plain": [
       "0     None\n",
       "1     None\n",
       "2     None\n",
       "3     None\n",
       "4     None\n",
       "5     None\n",
       "6     None\n",
       "7     None\n",
       "8     None\n",
       "9     None\n",
       "10    None\n",
       "11    None\n",
       "12    None\n",
       "13    None\n",
       "14    None\n",
       "15    None\n",
       "16    None\n",
       "17    None\n",
       "18    None\n",
       "19    None\n",
       "20    None\n",
       "21    None\n",
       "22    None\n",
       "23    None\n",
       "24    None\n",
       "25    None\n",
       "26    None\n",
       "27    None\n",
       "28    None\n",
       "29    None\n",
       "30    None\n",
       "31    None\n",
       "32    None\n",
       "33    None\n",
       "34    None\n",
       "35    None\n",
       "36    None\n",
       "37    None\n",
       "38    None\n",
       "39    None\n",
       "dtype: object"
      ]
     },
     "execution_count": 38,
     "metadata": {},
     "output_type": "execute_result"
    }
   ],
   "source": [
    "filename_series_test = pd.Series(groupby_obj_test.groups.keys())\n",
    "filename_series_test.apply(save_data,args=(test_folder,groupby_obj_test))"
   ]
  },
  {
   "cell_type": "code",
   "execution_count": null,
   "id": "ee6a9b9a-64f5-4481-be0b-4a29bb9d0ac8",
   "metadata": {},
   "outputs": [],
   "source": []
  }
 ],
 "metadata": {
  "kernelspec": {
   "display_name": "Python 3 (ipykernel)",
   "language": "python",
   "name": "python3"
  },
  "language_info": {
   "codemirror_mode": {
    "name": "ipython",
    "version": 3
   },
   "file_extension": ".py",
   "mimetype": "text/x-python",
   "name": "python",
   "nbconvert_exporter": "python",
   "pygments_lexer": "ipython3",
   "version": "3.11.7"
  }
 },
 "nbformat": 4,
 "nbformat_minor": 5
}
