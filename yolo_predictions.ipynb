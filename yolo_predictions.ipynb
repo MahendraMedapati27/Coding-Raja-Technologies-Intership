{
 "cells": [
  {
   "cell_type": "code",
   "execution_count": 1,
   "id": "c4153407-a948-4824-bd68-03d0fdc2a0f6",
   "metadata": {},
   "outputs": [],
   "source": [
    "import cv2\n",
    "import os\n",
    "import numpy as np\n",
    "import yaml\n",
    "from yaml.loader import SafeLoader"
   ]
  },
  {
   "cell_type": "code",
   "execution_count": 2,
   "id": "b6b2debd-eafd-4920-866e-c46e7fc8253d",
   "metadata": {},
   "outputs": [
    {
     "name": "stdout",
     "output_type": "stream",
     "text": [
      "['person', 'dog']\n"
     ]
    }
   ],
   "source": [
    "#load yaml\n",
    "with open('data.yaml', mode='r') as f:\n",
    "    data_yaml = yaml.load(f, Loader = SafeLoader)\n",
    "\n",
    "labels = data_yaml['names']\n",
    "print(labels)"
   ]
  },
  {
   "cell_type": "code",
   "execution_count": 4,
   "id": "96b26c04-33e3-4f82-b737-14364bfba976",
   "metadata": {},
   "outputs": [],
   "source": [
    "#load yolo\n",
    "yolo = cv2.dnn.readNetFromONNX('./Model3/weights/best.onnx')\n",
    "yolo.setPreferableBackend(cv2.dnn.DNN_BACKEND_OPENCV)\n",
    "yolo.setPreferableTarget(cv2.dnn.DNN_TARGET_CPU)"
   ]
  },
  {
   "cell_type": "code",
   "execution_count": 87,
   "id": "8cc3df94-f7b3-4724-9ae8-d16f3eafd609",
   "metadata": {},
   "outputs": [],
   "source": [
    "#laod the image\n",
    "img = cv2.imread('./img_3.jpg')\n",
    "image = img.copy()\n",
    "row, col, d = img.shape\n",
    "\n",
    "max_rc = max(row, col)\n",
    "input_image = np.zeros((max_rc,max_rc,3),dtype = np.uint8)\n",
    "input_image[0:row,0:col] = img\n",
    "\n",
    "INPUT_WH_YOLO = 640\n",
    "blob = cv2.dnn.blobFromImage(input_image,1/255,(INPUT_WH_YOLO,INPUT_WH_YOLO), swapRB = True, crop=False)\n",
    "yolo.setInput(blob)\n",
    "preds = yolo.forward()\n"
   ]
  },
  {
   "cell_type": "code",
   "execution_count": 88,
   "id": "055682b5-dce1-4df4-93fc-d6bdd08210ef",
   "metadata": {},
   "outputs": [
    {
     "name": "stdout",
     "output_type": "stream",
     "text": [
      "(1, 25200, 7)\n"
     ]
    }
   ],
   "source": [
    "print(preds.shape)"
   ]
  },
  {
   "cell_type": "code",
   "execution_count": 89,
   "id": "4fcfc022-ab24-4355-af3f-06fedffdaea4",
   "metadata": {},
   "outputs": [],
   "source": [
    "detections = preds[0]\n",
    "boxes = []\n",
    "confidences = []\n",
    "classes = []\n",
    "\n",
    "image_w, image_h = input_image.shape[:2]\n",
    "x_factor = image_w / INPUT_WH_YOLO\n",
    "y_factor = image_h / INPUT_WH_YOLO\n",
    "\n",
    "for i in range(len(detections)):\n",
    "    row = detections[i]\n",
    "    confidence = row[4]\n",
    "    if confidence > 0.4:\n",
    "        class_score = row[:5].max()\n",
    "        class_id = row[5:].argmax()\n",
    "        if class_score > 0.25:\n",
    "            cx, cy, w, h = row[0:4]\n",
    "            left = int((cx - 0.5 * w) * x_factor)\n",
    "            top = int((cy - 0.5 * h) * y_factor)\n",
    "            width = int(w * x_factor)\n",
    "            height = int(h * y_factor)\n",
    "            box = np.array([left, top, width, height])\n",
    "            confidences.append(confidence)\n",
    "            boxes.append(box)\n",
    "            classes.append(class_id)\n",
    "\n",
    "indices = cv2.dnn.NMSBoxes(np.array(boxes), np.array(confidences), 0.25, 0.45).flatten()\n",
    "boxes_np = np.array(boxes)\n",
    "confidence_np = np.array(confidences)\n"
   ]
  },
  {
   "cell_type": "code",
   "execution_count": 90,
   "id": "ad542bb4-0070-461d-8902-86214a75a9d0",
   "metadata": {},
   "outputs": [
    {
     "data": {
      "text/plain": [
       "8"
      ]
     },
     "execution_count": 90,
     "metadata": {},
     "output_type": "execute_result"
    }
   ],
   "source": [
    "len(indices)"
   ]
  },
  {
   "cell_type": "code",
   "execution_count": 93,
   "id": "306e6830-1d3f-44c3-b71e-28ea9692a5e6",
   "metadata": {},
   "outputs": [],
   "source": [
    "thickness = 2  # Example thickness value\n",
    "for ind in indices:\n",
    "    x, y, w, h = boxes[ind]\n",
    "    bb_conf = confidences[ind]\n",
    "    class_id = classes[ind]\n",
    "    class_name = labels[class_id]\n",
    "    text = f'{class_name}: {bb_conf * 100:.2f}%'\n",
    "    cv2.rectangle(image, (x, y), (x+w, y+h), (255, 255, 0), thickness)\n",
    "    cv2.rectangle(image, (x, y-30), (x+w, y), (255, 255, 255), -1)\n",
    "    cv2.putText(image, text, (x, y-10), cv2.FONT_HERSHEY_PLAIN, 0.7, (0, 0, 0), 1)\n",
    "\n"
   ]
  },
  {
   "cell_type": "code",
   "execution_count": 94,
   "id": "7b90cfdf-0dda-4cc3-93b7-c210e9b2d8d3",
   "metadata": {},
   "outputs": [],
   "source": [
    "cv2.imshow('original',img)\n",
    "cv2.imshow('yolo_prediction', image)\n",
    "cv2.waitKey(0)\n",
    "cv2.destroyAllWindows()"
   ]
  },
  {
   "cell_type": "code",
   "execution_count": null,
   "id": "4d681120-68e5-4c4a-b287-552d24835b8d",
   "metadata": {},
   "outputs": [],
   "source": []
  }
 ],
 "metadata": {
  "kernelspec": {
   "display_name": "Python 3 (ipykernel)",
   "language": "python",
   "name": "python3"
  },
  "language_info": {
   "codemirror_mode": {
    "name": "ipython",
    "version": 3
   },
   "file_extension": ".py",
   "mimetype": "text/x-python",
   "name": "python",
   "nbconvert_exporter": "python",
   "pygments_lexer": "ipython3",
   "version": "3.11.9"
  }
 },
 "nbformat": 4,
 "nbformat_minor": 5
}
