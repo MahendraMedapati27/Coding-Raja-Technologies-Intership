{
 "cells": [
  {
   "cell_type": "code",
   "execution_count": 2,
   "id": "3c788d86-f199-4075-a2a5-9ba924d6ba78",
   "metadata": {},
   "outputs": [],
   "source": [
    "import cv2\n",
    "from yolo_predictions_2 import YOLO_Pred\n"
   ]
  },
  {
   "cell_type": "code",
   "execution_count": 3,
   "id": "7c06688c-8323-4351-bcbb-e98fed0a1dd7",
   "metadata": {},
   "outputs": [],
   "source": [
    "yolo = YOLO_Pred('./Model3/weights/best.onnx','data.yaml')"
   ]
  },
  {
   "cell_type": "code",
   "execution_count": 4,
   "id": "6e5ae024-5023-40cb-88ef-c2ba0d44b625",
   "metadata": {},
   "outputs": [],
   "source": [
    "img = cv2.imread('./img_3.jpg')\n",
    "cv2.imshow('img',img)\n",
    "cv2.waitKey(0)\n",
    "cv2.destroyAllWindows()"
   ]
  },
  {
   "cell_type": "code",
   "execution_count": 5,
   "id": "7ee320a2-9e50-4374-8d18-77c94b4a8dc9",
   "metadata": {},
   "outputs": [],
   "source": [
    "img_pred = yolo.predictions(img)"
   ]
  },
  {
   "cell_type": "code",
   "execution_count": 6,
   "id": "09724b26-ff3c-42e1-8bb4-e627b30bfa2f",
   "metadata": {},
   "outputs": [],
   "source": [
    "cv2.imshow('predictions',img_pred)\n",
    "cv2.waitKey(0)\n",
    "cv2.destroyAllWindows()"
   ]
  },
  {
   "cell_type": "code",
   "execution_count": 5,
   "id": "d1385861-859d-4ae3-a0ef-4c77dfa53246",
   "metadata": {},
   "outputs": [
    {
     "ename": "AttributeError",
     "evalue": "module 'cv2' has no attribute 'release'",
     "output_type": "error",
     "traceback": [
      "\u001b[1;31m---------------------------------------------------------------------------\u001b[0m",
      "\u001b[1;31mAttributeError\u001b[0m                            Traceback (most recent call last)",
      "Cell \u001b[1;32mIn[5], line 14\u001b[0m\n\u001b[0;32m     11\u001b[0m         \u001b[38;5;28;01mbreak\u001b[39;00m\n\u001b[0;32m     13\u001b[0m cv2\u001b[38;5;241m.\u001b[39mdestroyAllWindows()\n\u001b[1;32m---> 14\u001b[0m \u001b[43mcv2\u001b[49m\u001b[38;5;241;43m.\u001b[39;49m\u001b[43mrelease\u001b[49m()\n",
      "\u001b[1;31mAttributeError\u001b[0m: module 'cv2' has no attribute 'release'"
     ]
    }
   ],
   "source": [
    "cap = cv2.VideoCapture('video2.mp4')\n",
    "while True:\n",
    "    ret, frame = cap.read()\n",
    "    if ret == False:\n",
    "        print('unable to read video')\n",
    "        break\n",
    "\n",
    "    pred_img = yolo.predictions(frame)\n",
    "    cv2.imshow('YOLO', pred_img)\n",
    "    if cv2.waitKey(1) == 27:\n",
    "        break\n",
    "\n",
    "cv2.destroyAllWindows()\n",
    "cv2.release()\n",
    "                "
   ]
  },
  {
   "cell_type": "code",
   "execution_count": null,
   "id": "6178b290-62b6-47fb-a5f1-9bdb7496ed36",
   "metadata": {},
   "outputs": [],
   "source": []
  }
 ],
 "metadata": {
  "kernelspec": {
   "display_name": "Python 3 (ipykernel)",
   "language": "python",
   "name": "python3"
  },
  "language_info": {
   "codemirror_mode": {
    "name": "ipython",
    "version": 3
   },
   "file_extension": ".py",
   "mimetype": "text/x-python",
   "name": "python",
   "nbconvert_exporter": "python",
   "pygments_lexer": "ipython3",
   "version": "3.11.9"
  }
 },
 "nbformat": 4,
 "nbformat_minor": 5
}
